{
 "cells": [
  {
   "cell_type": "markdown",
   "id": "44d71e43",
   "metadata": {},
   "source": [
    "# Exercícios de Python 🐍\n",
    "\n",
    "Este notebook contém 24 exercícios de níveis **fácil, médio e difícil**, cobrindo:\n",
    "\n",
    "- Listas\n",
    "- Tuplas\n",
    "- Dicionários\n",
    "- Manipulação de strings\n",
    "- Laços de repetição\n",
    "\n",
    "Tente resolver cada exercício antes de rodar! 🚀\n"
   ]
  },
  {
   "cell_type": "markdown",
   "id": "52707bad",
   "metadata": {},
   "source": [
    "## 🟢 Exercícios Fáceis"
   ]
  },
  {
   "cell_type": "markdown",
   "id": "d0d58f37",
   "metadata": {},
   "source": [
    "### Exercício 1\n",
    "Crie uma lista com 5 números inteiros e exiba o maior e o menor valor."
   ]
  },
  {
   "cell_type": "code",
   "execution_count": null,
   "id": "681476a7",
   "metadata": {},
   "outputs": [],
   "source": [
    "# Sua resposta aqui\n",
    "numeros= ['1', '2', '3', '4']\n",
    "numeros(min)\n",
    "print(numeros)"
   ]
  },
  {
   "cell_type": "markdown",
   "id": "9d54f18e",
   "metadata": {},
   "source": [
    "### Exercício 2\n",
    "Dada uma lista de nomes, exiba apenas aqueles que começam com a letra 'A'."
   ]
  },
  {
   "cell_type": "code",
   "execution_count": null,
   "id": "05e3461f",
   "metadata": {},
   "outputs": [],
   "source": [
    "# Sua resposta aqui"
   ]
  },
  {
   "cell_type": "markdown",
   "id": "c87a7cb1",
   "metadata": {},
   "source": [
    "### Exercício 3\n",
    "Conte quantas vezes o número 3 aparece na lista `[1,3,5,3,7,9,3]`."
   ]
  },
  {
   "cell_type": "code",
   "execution_count": null,
   "id": "65b65de8",
   "metadata": {},
   "outputs": [],
   "source": [
    "# Sua resposta aqui"
   ]
  },
  {
   "cell_type": "markdown",
   "id": "2d6a1b79",
   "metadata": {},
   "source": [
    "### Exercício 4\n",
    "Dada a tupla `(10, 20, 30, 40, 50)`, acesse o terceiro elemento."
   ]
  },
  {
   "cell_type": "code",
   "execution_count": null,
   "id": "9cb9e59c",
   "metadata": {},
   "outputs": [],
   "source": [
    "# Sua resposta aqui"
   ]
  },
  {
   "cell_type": "markdown",
   "id": "504f4835",
   "metadata": {},
   "source": [
    "### Exercício 5\n",
    "Crie um dicionário com 3 pares (nome, idade) e exiba apenas as chaves."
   ]
  },
  {
   "cell_type": "code",
   "execution_count": null,
   "id": "fccdb432",
   "metadata": {},
   "outputs": [],
   "source": [
    "# Sua resposta aqui"
   ]
  },
  {
   "cell_type": "markdown",
   "id": "96cbbb2d",
   "metadata": {},
   "source": [
    "### Exercício 6\n",
    "Peça ao usuário uma palavra e exiba essa palavra invertida."
   ]
  },
  {
   "cell_type": "code",
   "execution_count": null,
   "id": "f1218e07",
   "metadata": {},
   "outputs": [],
   "source": [
    "# Sua resposta aqui"
   ]
  },
  {
   "cell_type": "markdown",
   "id": "b46c122a",
   "metadata": {},
   "source": [
    "### Exercício 7\n",
    "Crie uma lista de 10 números e exiba apenas os pares."
   ]
  },
  {
   "cell_type": "code",
   "execution_count": null,
   "id": "75db1712",
   "metadata": {},
   "outputs": [],
   "source": [
    "# Sua resposta aqui"
   ]
  },
  {
   "cell_type": "markdown",
   "id": "ed5e6c2e",
   "metadata": {},
   "source": [
    "### Exercício 8\n",
    "Dada a string `'Python é incrível'`, conte quantas vogais ela possui."
   ]
  },
  {
   "cell_type": "code",
   "execution_count": null,
   "id": "fe61aa9b",
   "metadata": {},
   "outputs": [],
   "source": [
    "# Sua resposta aqui"
   ]
  },
  {
   "cell_type": "markdown",
   "id": "c76b667a",
   "metadata": {},
   "source": [
    "## 🟡 Exercícios Médios"
   ]
  },
  {
   "cell_type": "markdown",
   "id": "8a1eb181",
   "metadata": {},
   "source": [
    "### Exercício 9\n",
    "Crie uma lista de números e exiba uma nova lista contendo o quadrado de cada número."
   ]
  },
  {
   "cell_type": "code",
   "execution_count": null,
   "id": "c3962a24",
   "metadata": {},
   "outputs": [],
   "source": [
    "# Sua resposta aqui"
   ]
  },
  {
   "cell_type": "markdown",
   "id": "c8abfea8",
   "metadata": {},
   "source": [
    "### Exercício 10\n",
    "Dado o dicionário `{'maçã':3, 'banana':5, 'laranja':2}`, exiba apenas as frutas com quantidade maior que 2."
   ]
  },
  {
   "cell_type": "code",
   "execution_count": null,
   "id": "27aaffa7",
   "metadata": {},
   "outputs": [],
   "source": [
    "# Sua resposta aqui"
   ]
  },
  {
   "cell_type": "markdown",
   "id": "03d6b406",
   "metadata": {},
   "source": [
    "### Exercício 11\n",
    "Peça ao usuário uma frase e exiba quantas palavras ela possui."
   ]
  },
  {
   "cell_type": "code",
   "execution_count": null,
   "id": "7e4dc68e",
   "metadata": {},
   "outputs": [],
   "source": [
    "# Sua resposta aqui"
   ]
  },
  {
   "cell_type": "markdown",
   "id": "469d2647",
   "metadata": {},
   "source": [
    "### Exercício 12\n",
    "Crie uma tupla com 10 números e exiba apenas os números maiores que 5."
   ]
  },
  {
   "cell_type": "code",
   "execution_count": null,
   "id": "2e7b045e",
   "metadata": {},
   "outputs": [],
   "source": [
    "# Sua resposta aqui"
   ]
  },
  {
   "cell_type": "markdown",
   "id": "23b648a5",
   "metadata": {},
   "source": [
    "### Exercício 13\n",
    "Dada a lista `[1,2,3,4,5,6,7,8,9]`, remova todos os números ímpares."
   ]
  },
  {
   "cell_type": "code",
   "execution_count": null,
   "id": "6bb1c316",
   "metadata": {},
   "outputs": [],
   "source": [
    "# Sua resposta aqui"
   ]
  },
  {
   "cell_type": "markdown",
   "id": "a37dce83",
   "metadata": {},
   "source": [
    "### Exercício 14\n",
    "Peça ao usuário 5 nomes e armazene-os em uma lista. Depois exiba-os em ordem alfabética."
   ]
  },
  {
   "cell_type": "code",
   "execution_count": null,
   "id": "2688645f",
   "metadata": {},
   "outputs": [],
   "source": [
    "# Sua resposta aqui"
   ]
  },
  {
   "cell_type": "markdown",
   "id": "74873025",
   "metadata": {},
   "source": [
    "### Exercício 15\n",
    "Dada uma lista de strings, crie uma nova lista apenas com as strings que tenham mais de 4 caracteres."
   ]
  },
  {
   "cell_type": "code",
   "execution_count": null,
   "id": "89297f7a",
   "metadata": {},
   "outputs": [],
   "source": [
    "# Sua resposta aqui"
   ]
  },
  {
   "cell_type": "markdown",
   "id": "4aaff0b6",
   "metadata": {},
   "source": [
    "### Exercício 16\n",
    "Crie um programa que leia uma palavra e verifique se ela é um palíndromo."
   ]
  },
  {
   "cell_type": "code",
   "execution_count": null,
   "id": "81dc8723",
   "metadata": {},
   "outputs": [],
   "source": [
    "# Sua resposta aqui"
   ]
  },
  {
   "cell_type": "markdown",
   "id": "7915a57a",
   "metadata": {},
   "source": [
    "## 🔴 Exercícios Difíceis"
   ]
  },
  {
   "cell_type": "markdown",
   "id": "6829f302",
   "metadata": {},
   "source": [
    "### Exercício 17\n",
    "Crie um programa que leia uma lista de números e retorne um dicionário com a contagem de cada número."
   ]
  },
  {
   "cell_type": "code",
   "execution_count": null,
   "id": "d9786a59",
   "metadata": {},
   "outputs": [],
   "source": [
    "# Sua resposta aqui"
   ]
  },
  {
   "cell_type": "markdown",
   "id": "ba078d49",
   "metadata": {},
   "source": [
    "### Exercício 18\n",
    "Dada uma matriz 3x3 (lista de listas), exiba a soma de cada linha."
   ]
  },
  {
   "cell_type": "code",
   "execution_count": null,
   "id": "1d6ce147",
   "metadata": {},
   "outputs": [],
   "source": [
    "# Sua resposta aqui"
   ]
  },
  {
   "cell_type": "markdown",
   "id": "a071c635",
   "metadata": {},
   "source": [
    "### Exercício 19\n",
    "Implemente um programa que peça várias frases e armazene a contagem de cada palavra em um dicionário."
   ]
  },
  {
   "cell_type": "code",
   "execution_count": null,
   "id": "3e3e6a74",
   "metadata": {},
   "outputs": [],
   "source": [
    "# Sua resposta aqui"
   ]
  },
  {
   "cell_type": "markdown",
   "id": "fc085e8d",
   "metadata": {},
   "source": [
    "### Exercício 20\n",
    "Crie uma função que receba uma string e retorne um dicionário com a contagem de cada letra."
   ]
  },
  {
   "cell_type": "code",
   "execution_count": null,
   "id": "2be4232c",
   "metadata": {},
   "outputs": [],
   "source": [
    "# Sua resposta aqui"
   ]
  },
  {
   "cell_type": "markdown",
   "id": "7aaed727",
   "metadata": {},
   "source": [
    "### Exercício 21\n",
    "Crie uma lista de tuplas representando alunos e notas. Exiba apenas os alunos com nota maior ou igual a 7."
   ]
  },
  {
   "cell_type": "code",
   "execution_count": null,
   "id": "f9dfdbb8",
   "metadata": {},
   "outputs": [],
   "source": [
    "# Sua resposta aqui"
   ]
  },
  {
   "cell_type": "markdown",
   "id": "bd505707",
   "metadata": {},
   "source": [
    "### Exercício 22\n",
    "Dada a lista `[10, 20, 30, 40, 50]`, gere uma nova lista com os valores acumulados (soma progressiva)."
   ]
  },
  {
   "cell_type": "code",
   "execution_count": null,
   "id": "ea5dbbc6",
   "metadata": {},
   "outputs": [],
   "source": [
    "# Sua resposta aqui"
   ]
  },
  {
   "cell_type": "markdown",
   "id": "043c0324",
   "metadata": {},
   "source": [
    "### Exercício 23\n",
    "Implemente um programa que leia um texto e exiba a palavra mais longa encontrada."
   ]
  },
  {
   "cell_type": "code",
   "execution_count": null,
   "id": "f33b89ae",
   "metadata": {},
   "outputs": [],
   "source": [
    "# Sua resposta aqui"
   ]
  },
  {
   "cell_type": "markdown",
   "id": "988e4185",
   "metadata": {},
   "source": [
    "### Exercício 24\n",
    "Crie uma função que receba uma lista e retorne a lista sem elementos duplicados, preservando a ordem."
   ]
  },
  {
   "cell_type": "code",
   "execution_count": null,
   "id": "7df35973",
   "metadata": {},
   "outputs": [],
   "source": [
    "# Sua resposta aqui"
   ]
  }
 ],
 "metadata": {
  "language_info": {
   "name": "python"
  }
 },
 "nbformat": 4,
 "nbformat_minor": 5
}
