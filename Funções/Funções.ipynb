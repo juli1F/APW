{
  "nbformat": 4,
  "nbformat_minor": 0,
  "metadata": {
    "colab": {
      "provenance": [],
      "authorship_tag": "ABX9TyM3jxqgUblsst4Ps4/bNFCq",
      "include_colab_link": true
    },
    "kernelspec": {
      "name": "python3",
      "display_name": "Python 3"
    },
    "language_info": {
      "name": "python"
    }
  },
  "cells": [
    {
      "cell_type": "markdown",
      "metadata": {
        "id": "view-in-github",
        "colab_type": "text"
      },
      "source": [
        "<a href=\"https://colab.research.google.com/github/juli1F/APW/blob/main/Fun%C3%A7%C3%B5es/Fun%C3%A7%C3%B5es.ipynb\" target=\"_parent\"><img src=\"https://colab.research.google.com/assets/colab-badge.svg\" alt=\"Open In Colab\"/></a>"
      ]
    },
    {
      "cell_type": "markdown",
      "source": [
        "**parametro**-  fica no parenteses e tem no minimo tem 2 valores, é a variável da função. E é necessario para a função."
      ],
      "metadata": {
        "id": "3Ra6PuYcfxmC"
      }
    },
    {
      "cell_type": "code",
      "execution_count": null,
      "metadata": {
        "id": "nHRi6vHDMIad"
      },
      "outputs": [],
      "source": [
        "def soma(x,y):\n",
        "  total= x + y\n",
        "  print(total)\n",
        "\n",
        "  def diminuir(x,y):\n",
        "    subtrai= x - y\n",
        "    print(subtrai)"
      ]
    },
    {
      "cell_type": "markdown",
      "source": [
        "##Estou definindo as funções sem retorno\n",
        "def= definição"
      ],
      "metadata": {
        "id": "MJBStg-HNhXT"
      }
    },
    {
      "cell_type": "markdown",
      "source": [
        "##Agora vou chamar as funções"
      ],
      "metadata": {
        "id": "q54xm2p3Nkyt"
      }
    },
    {
      "cell_type": "code",
      "source": [
        "valor1 = float(input(\"Digite o primeiro valor: \"))\n",
        "valor2 = float(input(\"Digite o segundo valor: \"))\n",
        "\n",
        "def soma(a, b):\n",
        "    total = a + b\n",
        "    print(\"A soma é:\", total)\n",
        "    return total\n",
        "\n",
        "def diminuir(a, b):\n",
        "    subtrai = a - b\n",
        "    print(\"A subtração é:\", subtrai)\n",
        "    return subtrai\n"
      ],
      "metadata": {
        "colab": {
          "base_uri": "https://localhost:8080/"
        },
        "id": "_cMKsq3zNpUS",
        "outputId": "b9ade035-439f-49be-e752-e8258c8ccdb1"
      },
      "execution_count": null,
      "outputs": [
        {
          "name": "stdout",
          "output_type": "stream",
          "text": [
            "Digite o primeiro valor: 20\n",
            "Digite o segundo valor: 12\n"
          ]
        }
      ]
    },
    {
      "cell_type": "code",
      "source": [
        "print(total)\n",
        "print(subtrai)"
      ],
      "metadata": {
        "colab": {
          "base_uri": "https://localhost:8080/"
        },
        "id": "wBzFhMQHQTld",
        "outputId": "1993b7f0-9c39-4200-802e-da1ca074af90"
      },
      "execution_count": null,
      "outputs": [
        {
          "output_type": "stream",
          "name": "stdout",
          "text": [
            "0\n",
            "0\n"
          ]
        }
      ]
    },
    {
      "cell_type": "code",
      "source": [
        "def apresentar(nome):\n",
        " print(f\"Olá, {nome}! Prazer em te conhecer.\")"
      ],
      "metadata": {
        "id": "i3J_PTHCYQ9a"
      },
      "execution_count": null,
      "outputs": []
    },
    {
      "cell_type": "code",
      "source": [
        "nome= input(\"Digite o seu nome: \")\n",
        "apresentar(nome)"
      ],
      "metadata": {
        "colab": {
          "base_uri": "https://localhost:8080/"
        },
        "id": "bxNyZtBDYXhr",
        "outputId": "532d242d-66bb-4c64-b78d-c24634533eff"
      },
      "execution_count": null,
      "outputs": [
        {
          "output_type": "stream",
          "name": "stdout",
          "text": [
            "Digite o seu nome: Juliana\n",
            "Olá, Juliana! Prazer em te conhecer.\n"
          ]
        }
      ]
    },
    {
      "cell_type": "code",
      "source": [
        "def verificar_paridade(numero):\n",
        "  if numero% 2==0:\n",
        "    print(f\"O número {numero} é par\")\n",
        "  else:\n",
        "    print(f\"O número {numero} é impar\")"
      ],
      "metadata": {
        "id": "3WywPDcoZ0QU"
      },
      "execution_count": null,
      "outputs": []
    },
    {
      "cell_type": "code",
      "source": [
        "verificar_paridade(7)\n",
        "verificar_paridade(12)"
      ],
      "metadata": {
        "colab": {
          "base_uri": "https://localhost:8080/"
        },
        "id": "RSNpaLA9aUhU",
        "outputId": "56ca8a89-2d7e-463d-835d-19bc9fdc47d0"
      },
      "execution_count": null,
      "outputs": [
        {
          "output_type": "stream",
          "name": "stdout",
          "text": [
            "O número 7 é impar\n",
            "O número 12 é par\n"
          ]
        }
      ]
    },
    {
      "cell_type": "code",
      "source": [
        "def boas_vindas(nome,curso):\n",
        "  print(f\"Olá, {nome}! Seja bem vindo(a) ao curso de {curso}!\")"
      ],
      "metadata": {
        "id": "yUNMdGxVabSx"
      },
      "execution_count": null,
      "outputs": []
    },
    {
      "cell_type": "code",
      "source": [
        "boas_vindas(\"Juliana\", \"Programação em Python\")"
      ],
      "metadata": {
        "colab": {
          "base_uri": "https://localhost:8080/"
        },
        "id": "-3R8a14Oazm1",
        "outputId": "120d1d1d-71b9-457f-f963-9b12bb40b2aa"
      },
      "execution_count": null,
      "outputs": [
        {
          "output_type": "stream",
          "name": "stdout",
          "text": [
            "Olá, Juliana! Seja bem vindo(a) ao curso de Programação em Python!\n"
          ]
        }
      ]
    },
    {
      "cell_type": "markdown",
      "source": [
        "##Estou definindo as funções com retorno\n"
      ],
      "metadata": {
        "id": "tp7G4Qd-QjnK"
      }
    },
    {
      "cell_type": "code",
      "source": [
        "def mult(x,y):\n",
        "  total= x * y\n",
        "  return total\n",
        "\n",
        "def divisao(x,y):\n",
        "  total= x/y\n",
        "  return total"
      ],
      "metadata": {
        "id": "NbvWTr_8QywR"
      },
      "execution_count": null,
      "outputs": []
    },
    {
      "cell_type": "markdown",
      "source": [
        "##Chamando uma função com retorno"
      ],
      "metadata": {
        "id": "nRZsKFhmSNcF"
      }
    },
    {
      "cell_type": "code",
      "source": [
        "valor1= float(input(\"Digite o primeiro valor1: \"))\n",
        "valor2= float(input(\"Digite o segundo valor2: \"))\n",
        "\n",
        "multiplicacao= mult(valor1,valor2)\n",
        "divisão= divisao(valor1,valor2)\n",
        "\n",
        "print(\"A multiplicação é: \", multiplicacao)\n",
        "print(\"A divisão é: \", divisão)"
      ],
      "metadata": {
        "colab": {
          "base_uri": "https://localhost:8080/"
        },
        "id": "uFAXLbU3R-NU",
        "outputId": "d9611104-abee-4f0e-a217-86d479b50417"
      },
      "execution_count": null,
      "outputs": [
        {
          "output_type": "stream",
          "name": "stdout",
          "text": [
            "Digite o primeiro valor1: 20\n",
            "Digite o segundo valor2: 2\n",
            "A multiplicação é:  40.0\n",
            "A divisão é:  10.0\n"
          ]
        }
      ]
    },
    {
      "cell_type": "markdown",
      "source": [
        "##Funções sem retorno e parametro"
      ],
      "metadata": {
        "id": "dqH52YgZU136"
      }
    },
    {
      "cell_type": "code",
      "source": [
        "def saudacao():\n",
        "  print(\"Olá! Seja bem-vindo(a) ao curso de Python!\")"
      ],
      "metadata": {
        "id": "GaHnVkFAU5yd"
      },
      "execution_count": null,
      "outputs": []
    },
    {
      "cell_type": "code",
      "source": [
        "saudacao()"
      ],
      "metadata": {
        "colab": {
          "base_uri": "https://localhost:8080/"
        },
        "id": "Y3rbPXTRU_SN",
        "outputId": "a827012f-8e2b-4d6c-9bda-ee74838bb3b5"
      },
      "execution_count": null,
      "outputs": [
        {
          "output_type": "stream",
          "name": "stdout",
          "text": [
            "Olá! Seja bem-vindo(a) ao curso de Python!\n"
          ]
        }
      ]
    },
    {
      "cell_type": "code",
      "source": [
        "from datetime import date\n",
        "date.today()"
      ],
      "metadata": {
        "colab": {
          "base_uri": "https://localhost:8080/"
        },
        "id": "n9hrVRATWlIz",
        "outputId": "82c93a5e-f3ae-4b26-9a99-a4ad121e7e4c"
      },
      "execution_count": null,
      "outputs": [
        {
          "output_type": "execute_result",
          "data": {
            "text/plain": [
              "datetime.date(2025, 10, 10)"
            ]
          },
          "metadata": {},
          "execution_count": 23
        }
      ]
    },
    {
      "cell_type": "code",
      "source": [
        "from datetime import datetime\n",
        "\n",
        "def mostrar_horario():\n",
        "    agora = datetime.now()\n",
        "    print(f\"Horário atual: {agora.strftime('%H:%M:%S')}\")"
      ],
      "metadata": {
        "id": "9eswcdxLW6Hu"
      },
      "execution_count": null,
      "outputs": []
    },
    {
      "cell_type": "code",
      "source": [
        "mostrar_horario()"
      ],
      "metadata": {
        "colab": {
          "base_uri": "https://localhost:8080/"
        },
        "id": "PxDF6uBKW94E",
        "outputId": "49d02bae-efe2-4f36-9911-f5530442add3"
      },
      "execution_count": null,
      "outputs": [
        {
          "output_type": "stream",
          "name": "stdout",
          "text": [
            "Horário atual: 18:22:20\n"
          ]
        }
      ]
    },
    {
      "cell_type": "markdown",
      "source": [
        "##Função sem Parâmetro e com Retorno"
      ],
      "metadata": {
        "id": "wtKlj1XGbc8j"
      }
    },
    {
      "cell_type": "markdown",
      "source": [
        "##Exemplos:"
      ],
      "metadata": {
        "id": "CKRuzNX2s2iy"
      }
    },
    {
      "cell_type": "code",
      "source": [
        "def mensagem():\n",
        " return \"Hoje é um ótimo dia para programar!\""
      ],
      "metadata": {
        "id": "xt7V5iQXbdgM"
      },
      "execution_count": null,
      "outputs": []
    },
    {
      "cell_type": "code",
      "source": [
        "print(mensagem())"
      ],
      "metadata": {
        "colab": {
          "base_uri": "https://localhost:8080/"
        },
        "id": "DZZP10s_bzaL",
        "outputId": "23c07637-a2c3-4036-adfb-3aec929f0f80"
      },
      "execution_count": null,
      "outputs": [
        {
          "output_type": "stream",
          "name": "stdout",
          "text": [
            "Hoje é um ótimo dia para programar!\n"
          ]
        }
      ]
    },
    {
      "cell_type": "code",
      "source": [
        "usar= mensagem()\n",
        "print(\"É sexta\", usar)"
      ],
      "metadata": {
        "colab": {
          "base_uri": "https://localhost:8080/"
        },
        "id": "JFraJfjFcky4",
        "outputId": "44e78894-805b-4eff-cbc6-b8d280e74cda"
      },
      "execution_count": null,
      "outputs": [
        {
          "output_type": "stream",
          "name": "stdout",
          "text": [
            "É sexta Hoje é um ótimo dia para programar!\n"
          ]
        }
      ]
    },
    {
      "cell_type": "code",
      "source": [
        "def somanotas():\n",
        "    nota1 = float(input(\"Digite a primeira nota: \"))\n",
        "    nota2 = float(input(\"Digite a segunda nota: \"))\n",
        "    nota3 = float(input(\"Digite a terceira nota: \"))\n",
        "    total = nota1 + nota2 + nota3\n",
        "    return total"
      ],
      "metadata": {
        "id": "84fs-2vRMYOx"
      },
      "execution_count": null,
      "outputs": []
    },
    {
      "cell_type": "code",
      "source": [
        "def media(soma):\n",
        "    media = soma / 3\n",
        "    return media"
      ],
      "metadata": {
        "id": "6Qf7bcczMdBY"
      },
      "execution_count": null,
      "outputs": []
    },
    {
      "cell_type": "code",
      "source": [
        "somadasnotas = somanotas()"
      ],
      "metadata": {
        "colab": {
          "base_uri": "https://localhost:8080/"
        },
        "id": "Pbtg-7UkMecB",
        "outputId": "c1003a50-fa4d-4e6f-9117-5058cb76d3a0"
      },
      "execution_count": null,
      "outputs": [
        {
          "name": "stdout",
          "output_type": "stream",
          "text": [
            "Digite a primeira nota: 10\n",
            "Digite a segunda nota: 8.2\n",
            "Digite a terceira nota: 8.5\n"
          ]
        }
      ]
    },
    {
      "cell_type": "code",
      "source": [
        "print(\"A média das notas é\", media(somadasnotas))"
      ],
      "metadata": {
        "colab": {
          "base_uri": "https://localhost:8080/"
        },
        "id": "JSdGRIziMg2R",
        "outputId": "0326a15b-8d16-4340-a58c-4f59b2bfc564"
      },
      "execution_count": null,
      "outputs": [
        {
          "output_type": "stream",
          "name": "stdout",
          "text": [
            "A média das notas é 8.9\n"
          ]
        }
      ]
    },
    {
      "cell_type": "markdown",
      "source": [
        "##Função com Parâmetro e com Retorno"
      ],
      "metadata": {
        "id": "eYNna3XONUEa"
      }
    },
    {
      "cell_type": "markdown",
      "source": [
        "##Exemplos:"
      ],
      "metadata": {
        "id": "BGawwHsLstMT"
      }
    },
    {
      "cell_type": "code",
      "source": [
        "def calcular_total(preço_unitario, quantidade):\n",
        "  total= preço_unitario * quantidade\n",
        "  return total"
      ],
      "metadata": {
        "id": "0utHzxWLNXy0"
      },
      "execution_count": null,
      "outputs": []
    },
    {
      "cell_type": "code",
      "source": [
        "valor= calcular_total(25.50, 3)\n",
        "print(f\"O valor total da compra é R${valor:.2f}\")"
      ],
      "metadata": {
        "colab": {
          "base_uri": "https://localhost:8080/"
        },
        "id": "mzEHdCC8rONR",
        "outputId": "7065349a-f0d0-4bf5-c635-b8b34407dc0a"
      },
      "execution_count": null,
      "outputs": [
        {
          "output_type": "stream",
          "name": "stdout",
          "text": [
            "O valor total da compra é R$76.50\n"
          ]
        }
      ]
    },
    {
      "cell_type": "code",
      "source": [
        "def calcular_imc(peso, altura):\n",
        "  imc= peso / (altura**2)\n",
        "  return imc"
      ],
      "metadata": {
        "id": "Y1BKyIBVrm4u"
      },
      "execution_count": null,
      "outputs": []
    },
    {
      "cell_type": "code",
      "source": [
        "peso= float(input(\"Digite o peso: \"))\n",
        "altura= float(input(\"Digite a altura: \"))"
      ],
      "metadata": {
        "colab": {
          "base_uri": "https://localhost:8080/"
        },
        "id": "r3TfB1u-gps9",
        "outputId": "28c57de0-576a-47db-849f-a98628948e60"
      },
      "execution_count": null,
      "outputs": [
        {
          "name": "stdout",
          "output_type": "stream",
          "text": [
            "Digite o peso: 50\n",
            "Digite a altura: 1.50\n"
          ]
        }
      ]
    },
    {
      "cell_type": "code",
      "source": [
        "resultado= calcular_imc(peso, altura)\n",
        "print(f\"Seu IMC é {resultado:.2f}\")"
      ],
      "metadata": {
        "colab": {
          "base_uri": "https://localhost:8080/"
        },
        "id": "YLTi45JMsSEP",
        "outputId": "1b016b5d-0217-41a5-a300-dc33e17f46cd"
      },
      "execution_count": null,
      "outputs": [
        {
          "output_type": "stream",
          "name": "stdout",
          "text": [
            "Seu IMC é 22.22\n"
          ]
        }
      ]
    },
    {
      "cell_type": "code",
      "source": [
        "#Cuidado para não confundir com o exemplo da Função sem Parâmetro e com Retorno!!!"
      ],
      "metadata": {
        "id": "STFiXu5Bsq8o"
      },
      "execution_count": null,
      "outputs": []
    },
    {
      "cell_type": "code",
      "source": [
        "def calcular_soma_e_media(a, b, c):\n",
        "  soma= a + b + c\n",
        "  media= soma/3\n",
        "  return soma, media"
      ],
      "metadata": {
        "id": "Q2PC1WsKtFY5"
      },
      "execution_count": null,
      "outputs": []
    },
    {
      "cell_type": "code",
      "source": [
        "n1= float(input(\"Digite seu primeiro número: \"))\n",
        "n2= float(input(\"Digite seu segundo número: \"))\n",
        "n3= float(input(\"Digite seu terceiro número: \"))\n",
        "\n",
        "resultado_soma, resultado_media= calcular_soma_e_media(n1, n2, n3)"
      ],
      "metadata": {
        "colab": {
          "base_uri": "https://localhost:8080/"
        },
        "id": "CK_-T_OxtXfV",
        "outputId": "4822dc8d-b37b-4846-f8ca-41c3e3b6619e"
      },
      "execution_count": null,
      "outputs": [
        {
          "name": "stdout",
          "output_type": "stream",
          "text": [
            "Digite seu primeiro número: 12\n",
            "Digite seu segundo número: 30\n",
            "Digite seu terceiro número: 21\n"
          ]
        }
      ]
    },
    {
      "cell_type": "code",
      "source": [
        "print(f\"A soma é {resultado_soma:.2f}\")\n",
        "print(f\"A média é {resultado_media:.2f}\")"
      ],
      "metadata": {
        "colab": {
          "base_uri": "https://localhost:8080/"
        },
        "id": "sJoWox5Et1NR",
        "outputId": "8810c2a7-cbe7-4145-da3c-27b3460adf96"
      },
      "execution_count": null,
      "outputs": [
        {
          "output_type": "stream",
          "name": "stdout",
          "text": [
            "A soma é 63.00\n",
            "A média é 21.00\n"
          ]
        }
      ]
    },
    {
      "cell_type": "markdown",
      "source": [
        "#Exercícios\n",
        "##10 questões"
      ],
      "metadata": {
        "id": "qvaqHOFBuUH6"
      }
    },
    {
      "cell_type": "markdown",
      "source": [
        "#1) Mensagem de Boas-vindas\n",
        "\n",
        "Crie uma função chamada saudacao que não recebe parâmetros e simplesmente imprime na tela a mensagem que você escolher.\n",
        "\n",
        "Nome da Função: boas_vindas(), escolha a saudação\n",
        "\n",
        "💡 Esta é a forma mais simples: uma função que executa uma ação (impressão) sem precisar de dados externos ou retornar um resultado.\n",
        "\n",
        "💡 Dica: esse tipo de função é “sem parâmetro e sem retorno”."
      ],
      "metadata": {
        "id": "qN5JovsDudbF"
      }
    },
    {
      "cell_type": "code",
      "source": [
        "def boas_vindas():\n",
        "  print(\"Seja bem vindo nas aulas de programação\")"
      ],
      "metadata": {
        "id": "uZEn9FLjuclE"
      },
      "execution_count": 7,
      "outputs": []
    },
    {
      "cell_type": "code",
      "source": [
        "boas_vindas()"
      ],
      "metadata": {
        "colab": {
          "base_uri": "https://localhost:8080/"
        },
        "id": "-jKPxiySjk2x",
        "outputId": "f2beb3a6-afde-4603-b5aa-21c747c62075"
      },
      "execution_count": 8,
      "outputs": [
        {
          "output_type": "stream",
          "name": "stdout",
          "text": [
            "Seja bem vindo nas aulas de programação\n"
          ]
        }
      ]
    },
    {
      "cell_type": "markdown",
      "source": [
        "#2) Conversor de Temperatura\n",
        "\n",
        "Crie uma função chamada celsius_para_fahrenheit que recebe uma temperatura em Celsius (C) e retorna a temperatura equivalente em Fahrenheit (F).\n",
        "\n",
        "F = C \\times \\frac{9}{5} + 32\n",
        "\n",
        "💡 Lembre-se de converter a fração para decimal para garantir o cálculo correto e usar o return para devolver o valor."
      ],
      "metadata": {
        "id": "ToclRPXIunpN"
      }
    },
    {
      "cell_type": "code",
      "source": [
        "def fahrenheit_para_celsius(fahrenheit):\n",
        "    celsius = (fahrenheit - 32) * 5 / 9\n",
        "    return celsius"
      ],
      "metadata": {
        "id": "9g-w3bycoaZm"
      },
      "execution_count": 20,
      "outputs": []
    },
    {
      "cell_type": "code",
      "source": [
        "fahrenheit = float(input(\"Digite a temperatura em Fahrenheit: \"))\n",
        "resultado = fahrenheit_para_celsius(fahrenheit)\n",
        "print(f\"A temperatura em Celsius é: {resultado:.2f}\")"
      ],
      "metadata": {
        "colab": {
          "base_uri": "https://localhost:8080/"
        },
        "id": "tYA9bdCaobNl",
        "outputId": "95e5a944-0c53-4973-a599-d7d5f629515e"
      },
      "execution_count": 21,
      "outputs": [
        {
          "output_type": "stream",
          "name": "stdout",
          "text": [
            "Digite a temperatura em Fahrenheit: 100\n",
            "A temperatura em Celsius é: 37.78\n"
          ]
        }
      ]
    },
    {
      "cell_type": "markdown",
      "source": [
        "#3) Mensagem Personalizada\n",
        "\n",
        "Crie uma função chamada boas_vindas_personalizada que recebe um parâmetro nome (string) e imprime uma mensagem de boas-vindas usando esse nome (Ex: \"Olá, [Nome]! Seja bem-vindo.\").\n",
        "\n",
        "💡 Esta função recebe um parâmetro, mas não precisa de um retorno, pois sua finalidade é apenas a exibição na tela."
      ],
      "metadata": {
        "id": "Lg5cd6csuwWL"
      }
    },
    {
      "cell_type": "code",
      "source": [
        "def boas_vindas_personalizada(nome):\n",
        " print(f\"Olá, {nome}! Prazer em te conhecer.\")"
      ],
      "metadata": {
        "id": "duj8PnVTu2wX"
      },
      "execution_count": 33,
      "outputs": []
    },
    {
      "cell_type": "code",
      "source": [
        "nome_pessoa= input(\"digite seu nome: \")\n",
        "boas_vindas_personalizada(nome_pessoa)"
      ],
      "metadata": {
        "colab": {
          "base_uri": "https://localhost:8080/"
        },
        "collapsed": true,
        "id": "2s41u0Qhp0uQ",
        "outputId": "1fac60ff-9471-4d32-f895-acdc5932bcbb"
      },
      "execution_count": 37,
      "outputs": [
        {
          "output_type": "stream",
          "name": "stdout",
          "text": [
            "digite seu nome: Juliana\n",
            "Olá, Juliana! Prazer em te conhecer.\n"
          ]
        }
      ]
    },
    {
      "cell_type": "markdown",
      "source": [
        "#4) Quadrado e Cubo\n",
        "\n",
        "Crie uma função chamada calcular_potencias que recebe um número n e retorna o quadrado e o cubo desse número em uma tupla.\n",
        "\n",
        "💡 A função deve retornar dois valores. Lembre-se que em Python, você pode retornar múltiplos valores, que são automaticamente empacotados em uma tupla."
      ],
      "metadata": {
        "id": "9y8jen7xu28_"
      }
    },
    {
      "cell_type": "code",
      "source": [
        "def calcular_potencias(n):\n",
        "    quadrado = n ** 2\n",
        "    cubo = n ** 3\n",
        "    return quadrado, cubo"
      ],
      "metadata": {
        "id": "izYNfawvu6m3"
      },
      "execution_count": 38,
      "outputs": []
    },
    {
      "cell_type": "code",
      "source": [
        "numero = float(input(\"Digite um número: \"))\n",
        "q, c = calcular_potencias(numero)\n",
        "print(f\"O quadrado de {numero} é {q} e o cubo é {c}.\")\n"
      ],
      "metadata": {
        "colab": {
          "base_uri": "https://localhost:8080/"
        },
        "id": "Sg_2UA4ArLEK",
        "outputId": "e509d4fd-f508-45c5-f2d8-75441bf93cb9"
      },
      "execution_count": 39,
      "outputs": [
        {
          "output_type": "stream",
          "name": "stdout",
          "text": [
            "Digite um número: 6\n",
            "O quadrado de 6.0 é 36.0 e o cubo é 216.0.\n"
          ]
        }
      ]
    },
    {
      "cell_type": "markdown",
      "source": [
        "#5) Crie uma função chamada contagem_regressiva que recebe um número inteiro inicio e imprime todos os números de inicio até 1.\n",
        "\n",
        "💡 Use um laço de repetição (for ou while) para iterar e imprimir os números sequencialmente. Não é necessário retornar nada."
      ],
      "metadata": {
        "id": "1IUK2BCXu63d"
      }
    },
    {
      "cell_type": "code",
      "source": [
        "def contagem_regressiva(inicio):\n",
        "    for i in range(inicio, 0, -1):\n",
        "        print(i)"
      ],
      "metadata": {
        "id": "hUiy6MyLvAyB"
      },
      "execution_count": 46,
      "outputs": []
    },
    {
      "cell_type": "code",
      "source": [
        "numero = int(input(\"Digite o número inicial da contagem: \"))\n",
        "contagem_regressiva(numero)"
      ],
      "metadata": {
        "colab": {
          "base_uri": "https://localhost:8080/"
        },
        "id": "F-BrKTPZsh_N",
        "outputId": "d43ce5da-a63c-47d8-f8c0-1c3a3c093214"
      },
      "execution_count": 47,
      "outputs": [
        {
          "output_type": "stream",
          "name": "stdout",
          "text": [
            "Digite o número inicial da contagem: 5\n",
            "5\n",
            "4\n",
            "3\n",
            "2\n",
            "1\n"
          ]
        }
      ]
    },
    {
      "cell_type": "markdown",
      "source": [
        "#6) Cálculo de Desconto\n",
        "\n",
        "Desenvolva uma função chamada calcular_desconto que aceita valor_original e percentual_desconto como parâmetros e retorna o valor final após aplicar o desconto.\n",
        "\n",
        "\\text{Valor Final} = \\text{Valor Original} \\times (1 - \\frac{\\text{Percentual Desconto}}{100})\n",
        "\n",
        "💡 Para calcular o percentual corretamente, divida o percentual_desconto por 100 antes de subtrair de 1."
      ],
      "metadata": {
        "id": "i1ncQ7aVvBDm"
      }
    },
    {
      "cell_type": "code",
      "source": [
        "def calcular_desconto(valor_original, percentual_desconto):\n",
        "    valor_final = valor_original * (1 - (percentual_desconto / 100))\n",
        "    return valor_final"
      ],
      "metadata": {
        "id": "Ot-Pwi1uvHGd"
      },
      "execution_count": 48,
      "outputs": []
    },
    {
      "cell_type": "code",
      "source": [
        "preco = float(input(\"Digite o valor original: R$ \"))\n",
        "desconto = float(input(\"Digite o percentual de desconto (%): \"))\n",
        "resultado = calcular_desconto(preco, desconto)\n",
        "print(f\"O valor final com desconto é: R$ {resultado:.2f}\")"
      ],
      "metadata": {
        "colab": {
          "base_uri": "https://localhost:8080/"
        },
        "id": "N3CQ94WXvUis",
        "outputId": "4ccd76cb-539e-4c7d-ecaf-8c4b1f094f01"
      },
      "execution_count": 49,
      "outputs": [
        {
          "output_type": "stream",
          "name": "stdout",
          "text": [
            "Digite o valor original: R$ 120\n",
            "Digite o percentual de desconto (%): 12\n",
            "O valor final com desconto é: R$ 105.60\n"
          ]
        }
      ]
    },
    {
      "cell_type": "markdown",
      "source": [
        "#7) Maior e Menor\n",
        "\n",
        "Crie uma função chamada encontrar_extremos que recebe uma lista de números e retorna o maior e o menor número da lista.\n",
        "\n",
        "💡 Você pode explorar as funções nativas do Python max() e min() para uma solução concisa, ou implementar a lógica de comparação manualmente."
      ],
      "metadata": {
        "id": "KoOnlmNBvHUR"
      }
    },
    {
      "cell_type": "code",
      "source": [
        "def encontra_extremos(*numeros):\n",
        "    menor = min(numeros)\n",
        "    maior = max(numeros)\n",
        "    return menor, maior\n"
      ],
      "metadata": {
        "id": "iIelaM3TvL68"
      },
      "execution_count": 51,
      "outputs": []
    },
    {
      "cell_type": "code",
      "source": [
        "encontra_extremos(\"1\", \"2\", \"3\", \"4\", \"5\")\n"
      ],
      "metadata": {
        "colab": {
          "base_uri": "https://localhost:8080/"
        },
        "id": "e57nbDamw81Q",
        "outputId": "8b9fc57c-b2e7-436b-f46b-6a87dd98d9a0"
      },
      "execution_count": 52,
      "outputs": [
        {
          "output_type": "execute_result",
          "data": {
            "text/plain": [
              "('1', '5')"
            ]
          },
          "metadata": {},
          "execution_count": 52
        }
      ]
    },
    {
      "cell_type": "markdown",
      "source": [
        "#8) Calculadora Simples\n",
        "\n",
        "Crie uma função chamada calculadora que recebe dois números (a e b) e uma operacao (string: 'soma', 'subtracao', 'multiplicacao', 'divisao') e retorna o resultado da operação.\n",
        "\n",
        "💡 Use estruturas condicionais (if/elif/else) para determinar qual cálculo realizar e adicione uma verificação para evitar divisão por zero."
      ],
      "metadata": {
        "id": "MAuZ7CRvvSDg"
      }
    },
    {
      "cell_type": "code",
      "source": [
        "def calculadora(a, b, operacao):\n",
        "    if operacao == \"soma\":\n",
        "        return a + b\n",
        "    elif operacao == \"subtracao\":\n",
        "        return a - b\n",
        "    elif operacao == \"multiplicacao\":\n",
        "        return a * b\n",
        "    elif operacao == \"divisao\":\n",
        "        if b == 0:\n",
        "            return \"Erro: divisão por zero não é permitida.\"\n",
        "        else:\n",
        "            return a / b\n",
        "    else:\n",
        "        return \"Operação inválida. Use: soma, subtracao, multiplicacao ou divisao.\""
      ],
      "metadata": {
        "id": "DLwSQ4VevdnV"
      },
      "execution_count": 53,
      "outputs": []
    },
    {
      "cell_type": "code",
      "source": [
        "num1 = float(input(\"Digite o primeiro número: \"))\n",
        "num2 = float(input(\"Digite o segundo número: \"))\n",
        "op = input(\"Digite a operação (soma, subtracao, multiplicacao, divisao): \").lower()\n",
        "\n",
        "resultado = calculadora(num1, num2, op)\n",
        "print(f\"Resultado: {resultado}\")"
      ],
      "metadata": {
        "colab": {
          "base_uri": "https://localhost:8080/"
        },
        "id": "Br8OV1OIyEkR",
        "outputId": "3780d16e-7f05-4515-aaf7-b6ce998cca0a"
      },
      "execution_count": 58,
      "outputs": [
        {
          "output_type": "stream",
          "name": "stdout",
          "text": [
            "Digite o primeiro número: 4\n",
            "Digite o segundo número: 2\n",
            "Digite a operação (soma, subtracao, multiplicacao, divisao): divisao\n",
            "Resultado: 2.0\n"
          ]
        }
      ]
    },
    {
      "cell_type": "markdown",
      "source": [
        "#9) Mensagem Automática\n",
        "\n",
        "Crie uma função chamada enviar_email que recebe destinatario e assunto, e opcionalmente um corpo da mensagem. Se o corpo não for fornecido, use um texto padrão como \"Este é um email automático.\"\n",
        "\n",
        "💡 Defina o parâmetro corpo com um valor padrão (default value) na assinatura da função para torná-lo opcional.\n"
      ],
      "metadata": {
        "id": "hVPx8todvd9d"
      }
    },
    {
      "cell_type": "code",
      "source": [
        "def enviar_email(destinatario, assunto, corpo=\"Este é um email automático.\"):\n",
        "    print(\"📧 Enviando e-mail...\")\n",
        "    print(f\"Destinatário: {destinatario}\")\n",
        "    print(f\"Assunto: {assunto}\")\n",
        "    print(f\"Corpo: {corpo}\")"
      ],
      "metadata": {
        "id": "DrQ2LDz2vrJo",
        "colab": {
          "base_uri": "https://localhost:8080/"
        },
        "outputId": "b0135749-3f72-4e6f-d8a9-51a8a0771841"
      },
      "execution_count": 63,
      "outputs": [
        {
          "output_type": "stream",
          "name": "stdout",
          "text": [
            "📧 Enviando e-mail...\n",
            "Destinatário: juju@email.com\n",
            "Assunto: Lembrete\n",
            "Corpo: Não esqueça da reunião às 15h!\n",
            "📧 Enviando e-mail...\n",
            "Destinatário: igor@email.com\n",
            "Assunto: Aviso Importante\n",
            "Corpo: Este é um email automático.\n"
          ]
        }
      ]
    },
    {
      "cell_type": "code",
      "source": [
        "enviar_email(\"juju@email.com\", \"Lembrete\", \"Não esqueça da reunião às 15h!\")\n",
        "enviar_email(\"igor@email.com\", \"Aviso Importante\")\n",
        "corpo=\"Este é um email automático.\""
      ],
      "metadata": {
        "colab": {
          "base_uri": "https://localhost:8080/"
        },
        "id": "YiMVNfya2t90",
        "outputId": "8d7de8db-3e3e-497a-9a03-4f962d03173d"
      },
      "execution_count": 64,
      "outputs": [
        {
          "output_type": "stream",
          "name": "stdout",
          "text": [
            "📧 Enviando e-mail...\n",
            "Destinatário: juju@email.com\n",
            "Assunto: Lembrete\n",
            "Corpo: Não esqueça da reunião às 15h!\n",
            "📧 Enviando e-mail...\n",
            "Destinatário: igor@email.com\n",
            "Assunto: Aviso Importante\n",
            "Corpo: Este é um email automático.\n"
          ]
        }
      ]
    },
    {
      "cell_type": "markdown",
      "source": [
        "#10) Sistema de Notas\n",
        "\n",
        "Desenvolva uma função chamada avaliar_aluno que recebe uma nota (número) e retorna uma string indicando a situação do aluno: \"Aprovado\" (nota \\ge 7), \"Recuperação\" (\\ge 5 e < 7) ou \"Reprovado\" (< 5).\n",
        "\n",
        "💡 Lembre-se de usar operadores lógicos como and para definir os intervalos de notas de forma clara."
      ],
      "metadata": {
        "id": "t32gqeEJvrcb"
      }
    },
    {
      "cell_type": "code",
      "source": [
        "def avaliar_aluno(nota):\n",
        "    if nota >= 7:\n",
        "        return \"Aprovado\"\n",
        "    elif nota >= 5 and nota < 7:\n",
        "        return \"Recuperação\"\n",
        "    else:\n",
        "        return \"Reprovado\"\n",
        "\n",
        "nota = float(input(\"Digite a nota do aluno: \"))\n",
        "resultado = avaliar_aluno(nota)\n",
        "print(f\"Situação do aluno: {resultado}\")\n"
      ],
      "metadata": {
        "id": "1XR4pOiQvxg6",
        "colab": {
          "base_uri": "https://localhost:8080/"
        },
        "outputId": "94eda4e7-e458-488a-c90c-f8697e0ff1c4"
      },
      "execution_count": 66,
      "outputs": [
        {
          "output_type": "stream",
          "name": "stdout",
          "text": [
            "Digite a nota do aluno: 9\n",
            "Situação do aluno: Aprovado\n"
          ]
        }
      ]
    },
    {
      "cell_type": "code",
      "source": [],
      "metadata": {
        "id": "-gIz9BJH0bNr"
      },
      "execution_count": null,
      "outputs": []
    }
  ]
}