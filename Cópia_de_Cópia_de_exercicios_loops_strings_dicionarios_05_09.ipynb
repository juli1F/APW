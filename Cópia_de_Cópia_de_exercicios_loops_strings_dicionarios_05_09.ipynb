{
  "cells": [
    {
      "cell_type": "markdown",
      "metadata": {
        "id": "view-in-github",
        "colab_type": "text"
      },
      "source": [
        "<a href=\"https://colab.research.google.com/github/juli1F/APW/blob/main/C%C3%B3pia_de_C%C3%B3pia_de_exercicios_loops_strings_dicionarios_05_09.ipynb\" target=\"_parent\"><img src=\"https://colab.research.google.com/assets/colab-badge.svg\" alt=\"Open In Colab\"/></a>"
      ]
    },
    {
      "cell_type": "markdown",
      "id": "50e41763",
      "metadata": {
        "id": "50e41763"
      },
      "source": [
        "# Lista de Exercícios - Python (Loops, Strings e Dicionários)\n",
        "Este notebook contém 15 exercícios para praticar `for`, `while`, manipulação de **strings** e **dicionários`."
      ]
    },
    {
      "cell_type": "markdown",
      "id": "6c5e8da0",
      "metadata": {
        "id": "6c5e8da0"
      },
      "source": [
        "### 1. **Contagem de vogais**: Peça uma palavra e conte quantas vezes cada vogal aparece (usar `for` ou `while`)."
      ]
    },
    {
      "cell_type": "code",
      "execution_count": null,
      "id": "15f84469",
      "metadata": {
        "id": "15f84469",
        "outputId": "e60df33c-4603-46b6-9699-f769d6bf1616",
        "colab": {
          "base_uri": "https://localhost:8080/"
        }
      },
      "outputs": [
        {
          "output_type": "stream",
          "name": "stdout",
          "text": [
            "Digite a frase: eu qhsdjhf\n",
            "a quantidade de vogais é  {'a': 0, 'e': 1, 'i': 0, 'o': 0, 'u': 1}\n"
          ]
        }
      ],
      "source": [
        "frase = (input(\"Digite a frase: \")).lower()\n",
        "vogais = {'a':0, 'e':0, 'i':0, 'o':0, 'u':0}\n",
        "\n",
        "for letra in frase:\n",
        "    if letra in vogais:\n",
        "      vogais[letra] += 1\n",
        "print(\"a quantidade de vogais é \", vogais)"
      ]
    },
    {
      "cell_type": "markdown",
      "id": "2446d942",
      "metadata": {
        "id": "2446d942"
      },
      "source": [
        "### 2. **Inversão de string**: Solicite uma frase e mostre-a invertida **sem usar slicing** (`[::-1]` não vale). Use `while`."
      ]
    },
    {
      "cell_type": "code",
      "execution_count": null,
      "id": "4bd947d4",
      "metadata": {
        "id": "4bd947d4",
        "outputId": "73b2ecbf-b693-40de-9f1a-8fd92c343aea",
        "colab": {
          "base_uri": "https://localhost:8080/"
        }
      },
      "outputs": [
        {
          "output_type": "stream",
          "name": "stdout",
          "text": [
            "digite uma frase: eu amo almoço\n",
            "a frase invertida é:  oçomla oma ue\n"
          ]
        }
      ],
      "source": [
        "frase = str(input(\"digite uma frase: \"))\n",
        "invertido = \"\"\n",
        "i = len(frase) - 1\n",
        "while i >= 0:\n",
        "  invertido +=frase[i]\n",
        "  i -=1\n",
        "print(\"a frase invertida é: \", invertido)"
      ]
    },
    {
      "cell_type": "markdown",
      "id": "096a5b5d",
      "metadata": {
        "id": "096a5b5d"
      },
      "source": [
        "### 3. **Frequência de caracteres**: Dada uma string, crie um dicionário que mostre quantas vezes cada caractere aparece."
      ]
    },
    {
      "cell_type": "code",
      "execution_count": null,
      "id": "bd28dd49",
      "metadata": {
        "id": "bd28dd49",
        "outputId": "403cf715-1e98-4765-d1b6-bba165ac0bf0",
        "colab": {
          "base_uri": "https://localhost:8080/"
        }
      },
      "outputs": [
        {
          "output_type": "stream",
          "name": "stdout",
          "text": [
            "digite um dicionario: strogonof\n",
            "aqui está {'a': 0, 'b': 0, 'c': 0, 'd': 0, 'e': 0, 'f': 1, 'g': 1, 'h': 0, 'i': 0, 'j': 0, 'k': 0, 'l': 0, 'm': 0, 'n': 1, 'o': 1, 'p': 0, 'q': 0, 'r': 1, 's': 1, 't': 1, 'u': 0, 'v': 0, 'w': 0, 'x': 0, 'y': 0, 'z': 0}\n"
          ]
        }
      ],
      "source": [
        "Almoço = (input(\"digite um dicionario: \"))\n",
        "\n",
        "freq = {}\n",
        "letra=0\n",
        "bostadeabcdario = {'a':0,\n",
        "                   'b':0,\n",
        "                   'c':0,\n",
        "                   'd':0,\n",
        "                   'e':0,\n",
        "                   'f':0,\n",
        "                   'g':0,\n",
        "                   'h':0,\n",
        "                   'i':0,\n",
        "                   'j':0,\n",
        "                   'k':0,\n",
        "                   'l':0,\n",
        "                   'm':0,\n",
        "                   'n':0,\n",
        "                   'o':0,\n",
        "                   'p':0,\n",
        "                   'q':0,\n",
        "                   'r':0,\n",
        "                   's':0,\n",
        "                   't':0,\n",
        "                   'u':0,\n",
        "                   'v':0,\n",
        "                   'w':0,\n",
        "                   'x':0,\n",
        "                   'y':0,\n",
        "                   'z':0\n",
        "                   }\n",
        "for i in Almoço:\n",
        "  if i in bostadeabcdario:\n",
        "    bostadeabcdario[i] += 1\n",
        "print(\"aqui está\", bostadeabcdario)"
      ]
    },
    {
      "cell_type": "markdown",
      "id": "d046cc57",
      "metadata": {
        "id": "d046cc57"
      },
      "source": [
        "### 4. **Palavras únicas**: Peça uma frase e mostre as palavras que aparecem **apenas uma vez**."
      ]
    },
    {
      "cell_type": "code",
      "execution_count": null,
      "id": "092bef79",
      "metadata": {
        "id": "092bef79",
        "outputId": "8ee0e21f-230e-484a-9795-ec10ce2821c2",
        "colab": {
          "base_uri": "https://localhost:8080/"
        }
      },
      "outputs": [
        {
          "output_type": "stream",
          "name": "stdout",
          "text": [
            "digite uma frase: carro com carro\n",
            "palavras unicas:\n",
            "com\n"
          ]
        }
      ],
      "source": [
        "frase= input(\"digite uma frase: \").lower()\n",
        "frequencia = {}\n",
        "chocolate = frase.split()\n",
        "for chocolat in chocolate:\n",
        "   frequencia[chocolat] = frequencia.get(chocolat, 0) + 1\n",
        "print(\"palavras unicas:\")\n",
        "for chocolat, contagem in frequencia.items():\n",
        "    if contagem == 1:\n",
        "        print(chocolat)"
      ]
    },
    {
      "cell_type": "markdown",
      "id": "3ea99323",
      "metadata": {
        "id": "3ea99323"
      },
      "source": [
        "### 5. **Substituição manual**: Peça uma string e duas letras: substitua **manualmente** todas as ocorrências da primeira letra pela segunda, usando laço."
      ]
    },
    {
      "cell_type": "code",
      "execution_count": null,
      "id": "4d1406be",
      "metadata": {
        "id": "4d1406be",
        "outputId": "066244ed-b1b6-4d05-bc8f-d691b50d5026",
        "colab": {
          "base_uri": "https://localhost:8080/"
        }
      },
      "outputs": [
        {
          "output_type": "stream",
          "name": "stdout",
          "text": [
            "digite um palavvra:tamandua\n",
            "digite a letra para substituir: a\n",
            "digite a letra que vc quer trocar: u\n",
            "texto modificado: uuua\n"
          ]
        }
      ],
      "source": [
        "palavra = (input('digite um palavvra:'))\n",
        "letraa = str(input(\"digite a letra para substituir: \"))\n",
        "letran = str(input(\"digite a letra que vc quer trocar: \"))\n",
        "resultado = \"\"\n",
        "for i in palavra:\n",
        "  if i == letraa:\n",
        "    resultado+=letran\n",
        "  else:\n",
        "      resultado+=i\n",
        "print(\"texto modificado:\", resultado)"
      ]
    },
    {
      "cell_type": "markdown",
      "id": "870e9e64",
      "metadata": {
        "id": "870e9e64"
      },
      "source": [
        "### 6. **Palíndromo**: Verifique se uma palavra é um **palíndromo** sem usar funções prontas de reversão."
      ]
    },
    {
      "cell_type": "code",
      "execution_count": null,
      "id": "87824151",
      "metadata": {
        "id": "87824151"
      },
      "outputs": [],
      "source": [
        "# Sua resposta aqui"
      ]
    },
    {
      "cell_type": "markdown",
      "id": "ce1b0e1f",
      "metadata": {
        "id": "ce1b0e1f"
      },
      "source": [
        "### 7. **Enigma da senha**: Peça uma string e crie uma nova palavra pegando apenas as letras nas **posições ímpares**."
      ]
    },
    {
      "cell_type": "code",
      "execution_count": null,
      "id": "9fc744d2",
      "metadata": {
        "id": "9fc744d2"
      },
      "outputs": [],
      "source": [
        "# Sua resposta aqui"
      ]
    },
    {
      "cell_type": "markdown",
      "id": "42fe1350",
      "metadata": {
        "id": "42fe1350"
      },
      "source": [
        "### 8. **Expansão de abreviações**: Dado um dicionário de abreviações, substitua manualmente cada ocorrência em uma frase.\n",
        "\n",
        "(Ex: (vc: você, blz: beleza ..."
      ]
    },
    {
      "cell_type": "code",
      "execution_count": null,
      "id": "e63acd2a",
      "metadata": {
        "id": "e63acd2a"
      },
      "outputs": [],
      "source": [
        "# Sua resposta aqui"
      ]
    },
    {
      "cell_type": "markdown",
      "id": "3cf96a02",
      "metadata": {
        "id": "3cf96a02"
      },
      "source": [
        "### 9. **Criptografia simples**: Implemente uma cifra de substituição onde cada letra é trocada pela **próxima no alfabeto** (z → a)."
      ]
    },
    {
      "cell_type": "code",
      "execution_count": null,
      "id": "c8a0d724",
      "metadata": {
        "id": "c8a0d724"
      },
      "outputs": [],
      "source": [
        "# Sua resposta aqui"
      ]
    },
    {
      "cell_type": "markdown",
      "id": "4897443b",
      "metadata": {
        "id": "4897443b"
      },
      "source": [
        "### 10. **Anagrama**: Verifique se duas palavras são **anagramas**, usando dicionário para contar ocorrências."
      ]
    },
    {
      "cell_type": "code",
      "execution_count": null,
      "id": "4c53848e",
      "metadata": {
        "id": "4c53848e"
      },
      "outputs": [],
      "source": [
        "# Sua resposta aqui"
      ]
    }
  ],
  "metadata": {
    "colab": {
      "provenance": [],
      "include_colab_link": true
    },
    "language_info": {
      "name": "python"
    },
    "kernelspec": {
      "name": "python3",
      "display_name": "Python 3"
    }
  },
  "nbformat": 4,
  "nbformat_minor": 5
}