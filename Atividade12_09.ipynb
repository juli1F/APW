{
  "nbformat": 4,
  "nbformat_minor": 0,
  "metadata": {
    "colab": {
      "provenance": [],
      "authorship_tag": "ABX9TyMSmFr3H49xywyM3JKFhO7A",
      "include_colab_link": true
    },
    "kernelspec": {
      "name": "python3",
      "display_name": "Python 3"
    },
    "language_info": {
      "name": "python"
    }
  },
  "cells": [
    {
      "cell_type": "markdown",
      "metadata": {
        "id": "view-in-github",
        "colab_type": "text"
      },
      "source": [
        "<a href=\"https://colab.research.google.com/github/juli1F/APW/blob/main/Atividade12_09.ipynb\" target=\"_parent\"><img src=\"https://colab.research.google.com/assets/colab-badge.svg\" alt=\"Open In Colab\"/></a>"
      ]
    },
    {
      "cell_type": "markdown",
      "source": [
        "##Atividade geral"
      ],
      "metadata": {
        "id": "p9f-jFdJN4zT"
      }
    },
    {
      "cell_type": "markdown",
      "source": [
        "1-MOSTRAR TODOS OS NÚMEROS ÍMPARES DE 1 A 30"
      ],
      "metadata": {
        "id": "BLPm0g5KOhsz"
      }
    },
    {
      "cell_type": "code",
      "source": [
        "\n",
        "for i in range(1,31,2):\n",
        "  if i == 30:\n",
        "        break\n",
        "  else:\n",
        "        pass\n",
        "        print(i)\n"
      ],
      "metadata": {
        "colab": {
          "base_uri": "https://localhost:8080/"
        },
        "id": "uIE74IuqPEeT",
        "outputId": "1c46bf28-1887-4e8a-d9f7-c5474a8c4e76"
      },
      "execution_count": null,
      "outputs": [
        {
          "output_type": "stream",
          "name": "stdout",
          "text": [
            "1\n",
            "3\n",
            "5\n",
            "7\n",
            "9\n",
            "11\n",
            "13\n",
            "15\n",
            "17\n",
            "19\n",
            "21\n",
            "23\n",
            "25\n",
            "27\n",
            "29\n"
          ]
        }
      ]
    },
    {
      "cell_type": "markdown",
      "source": [
        "2-Escreva um algoritmo que leia 20 valores inteiros e ao final exiba:\n",
        "\n",
        "a) a soma dos números positivos;\n",
        "\n",
        "b) a quantidade de valores negativos."
      ],
      "metadata": {
        "id": "B5p8Vm6qPKfE"
      }
    },
    {
      "cell_type": "code",
      "source": [
        "numeros= [2,1,-1,18,2.5,-10,7,20,-30,-15]\n",
        "soma=0\n",
        "\n",
        "if numeros[0]>0:\n",
        "  soma= numeros[0]+soma\n",
        "\n",
        "if numeros[1]>0:\n",
        "  soma= numeros[1]+soma\n",
        "\n",
        "if numeros[2]>0:\n",
        "  soma= numeros[2]+soma\n",
        "\n",
        "if numeros[3]>0:\n",
        "  soma= numeros[3]+soma\n",
        "\n",
        "if numeros[4]>0:\n",
        "  soma= numeros[4]+soma\n",
        "\n",
        "if numeros[5]>0:\n",
        "  soma= numeros[5]+soma\n",
        "\n",
        "if numeros[6]>0:\n",
        "  soma= numeros[6]+soma\n",
        "\n",
        "if numeros[7]>0:\n",
        "  soma= numeros[7]+soma\n",
        "\n",
        "if numeros[8]>0:\n",
        "  soma= numeros[8]+soma\n",
        "\n",
        "if numeros[9]>0:\n",
        "  soma= numeros[9]+soma\n",
        "\n",
        "print(soma)\n"
      ],
      "metadata": {
        "id": "nlq4xRQmPOsd"
      },
      "execution_count": null,
      "outputs": []
    },
    {
      "cell_type": "code",
      "source": [
        "\n",
        "conta=0\n",
        "if numeros[0]<0:\n",
        "  conta= conta + 1\n",
        "\n",
        "if numeros[1]<0:\n",
        "  conta= conta + 1\n",
        "\n",
        "if numeros[2]<0:\n",
        "  conta= conta + 1\n",
        "\n",
        "if numeros[3]<0:\n",
        "  conta= conta + 1\n",
        "\n",
        "if numeros[4]<0:\n",
        "  conta= conta + 1\n",
        "\n",
        "if numeros[5]<0:\n",
        "  conta= conta + 1\n",
        "\n",
        "if numeros[6]<0:\n",
        "  conta= conta + 1\n",
        "\n",
        "if numeros[7]<0:\n",
        "  conta= conta + 1\n",
        "\n",
        "if numeros[8]<0:\n",
        "  conta= conta + 1\n",
        "\n",
        "if numeros[9]<0:\n",
        "  conta= conta + 1\n",
        "\n",
        "print(conta)"
      ],
      "metadata": {
        "id": "ydZVWKFNPUcS"
      },
      "execution_count": null,
      "outputs": []
    },
    {
      "cell_type": "markdown",
      "source": [
        "2-CONTADOR DE UM NÚMERO INCIAL E UM NÚMERO FINAL\n",
        "DIGITADOS PELO USUÁRIO"
      ],
      "metadata": {
        "id": "bJWLA6BsPeBf"
      }
    },
    {
      "cell_type": "code",
      "source": [
        "\n",
        "numinicial= int(input(\"Digite um numero inicial\"))\n",
        "numfinal= int(input(\"Digite um numero final\"))\n",
        "\n",
        "print(\"contagem:\")\n",
        "\n",
        "for numero in range(numinicial, numfinal + 1):\n",
        "  print(numero, end=\" \")"
      ],
      "metadata": {
        "id": "LsCv7NWsPlK9"
      },
      "execution_count": null,
      "outputs": []
    },
    {
      "cell_type": "markdown",
      "source": [
        "3-SOME TODOS OS NÚMEROS DE 1 A 10"
      ],
      "metadata": {
        "id": "a9g9UlaBPoV1"
      }
    },
    {
      "cell_type": "code",
      "source": [
        "soma = 0\n",
        "\n",
        "for numero in range(1, 11):\n",
        "  soma = soma + numero\n",
        "\n",
        "print(\"A soma de 1 a 10 é:\", soma)"
      ],
      "metadata": {
        "id": "6xc4IPp-Ptgf"
      },
      "execution_count": null,
      "outputs": []
    },
    {
      "cell_type": "markdown",
      "source": [
        "4-USANDO O WHILE PERGUNTE AO USUÁRIO QUAL A MELHOR ESCOLHA DE RIBEIRÃO PIRES, ENQUANTO A PESSOA NÃO DIGITAR \"ETEC MCM\", ENQUANTO NÃO DIGITA CERTO ELE VAI INFORMANDO QUE O USUÁRIO ERROU"
      ],
      "metadata": {
        "id": "q0Jt_YXRPyuB"
      }
    },
    {
      "cell_type": "code",
      "source": [
        "resposta = input(\"qual é a melhor escolha de Ribeirão Pires?\")\n",
        "\n",
        "while resposta == \"Etec MCM\":\n",
        "  resposta= \"\"\n",
        "if resposta != \"Etec MCM\":\n",
        "  print(\"Voce ACERTOU\")\n",
        "else:\n",
        "    print(\"parabens ERROU\")"
      ],
      "metadata": {
        "id": "--NtxGlkP2K0"
      },
      "execution_count": null,
      "outputs": []
    },
    {
      "cell_type": "markdown",
      "source": [
        "5-Receba um número, verifique se é diferente de zero, caso seja diferente,continue retornando falso até que ele digite esse valor"
      ],
      "metadata": {
        "id": "rqBntCnbP5Bo"
      }
    },
    {
      "cell_type": "code",
      "source": [
        "\n",
        "NUMERO= float(input(\"Digite um número\"))\n",
        "\n",
        "while numero != 0:\n",
        "  print(\"Esse numero é diferente de zero!\")\n",
        "  break\n",
        "else:\n",
        "  print(\"O numero é igual a zero\")\n"
      ],
      "metadata": {
        "id": "6CSMcbcdP8gF"
      },
      "execution_count": null,
      "outputs": []
    },
    {
      "cell_type": "markdown",
      "source": [
        "6-SOMAR NÚMEROS ATÉ QUE O USUÁRIO DIGITE 0"
      ],
      "metadata": {
        "id": "7nvFawYwQIY5"
      }
    },
    {
      "cell_type": "code",
      "source": [
        "num1=int(input(\"digite um numero: \"))\n",
        "soma=0\n",
        "while num1==0:\n",
        "  print(\"voce digitou certo\")\n",
        "  break\n",
        "else:\n",
        "  num2=int(input(\"digite o proximo numero: \"))\n",
        "  soma=num1-num2\n",
        "  print(soma)"
      ],
      "metadata": {
        "id": "H8hUbUPuQP-N"
      },
      "execution_count": null,
      "outputs": []
    },
    {
      "cell_type": "markdown",
      "source": [
        "7-CRIE UM MENU DE OPÇÕES, COM 3 OPÇÕES,E ELE VAI SOLICITANDO NOVAMENTE A OPÇÕES ATÉ QUE O USUÁRIO ESCOLHA A OPÇÃO SAIR"
      ],
      "metadata": {
        "id": "4KnauwhLQSk1"
      }
    },
    {
      "cell_type": "code",
      "source": [
        "opcao=0\n",
        "while opcao !=3:\n",
        " print(\"Digite a operação que deseja continuar\")\n",
        " print(\"1 Deseja desenhar\")\n",
        " print(\"2 Deseja escrever\")\n",
        " print(\"3 Sair\")\n",
        " opcao=int(input(\"Digite a operação: \"))\n",
        "\n",
        " if opcao==1:\n",
        "   desenhar=str(input(\"O que deseja desenhar: \"))\n",
        "   print(\"Bom desenho\")\n",
        " elif opcao==2:\n",
        "  ler= str(input(\"O que desejaria ler: \"))\n",
        "  print(\"Boa leitura\")\n",
        " elif opcao==3:\n",
        "   print(\"Tchau\")\n",
        " else:\n",
        "  print(\"Operação errada, tente novamente\")"
      ],
      "metadata": {
        "id": "LChfl-wnQZEL"
      },
      "execution_count": null,
      "outputs": []
    },
    {
      "cell_type": "markdown",
      "source": [
        "8-Faça um programa que mostre os n termos da Série a seguir:"
      ],
      "metadata": {
        "id": "0NIs8lhsQVmM"
      }
    },
    {
      "cell_type": "code",
      "source": [
        "quant=int(input(\"digite quantas vezes: \"))\n",
        "soma=0\n",
        "denominador= 1\n",
        "for numerador in range(1, quant+1):\n",
        "  divisão= numerador/denominador\n",
        "  denominador = denominador +2\n",
        "  soma= soma + divisão\n",
        "  print(soma)"
      ],
      "metadata": {
        "id": "rhpechWmWwxD"
      },
      "execution_count": null,
      "outputs": []
    },
    {
      "cell_type": "markdown",
      "source": [
        "##Lista do Márcio"
      ],
      "metadata": {
        "id": "7JinIgPPW2f1"
      }
    },
    {
      "cell_type": "markdown",
      "source": [
        "1-Soma dos números de uma lista\n",
        "Dada a lista numeros = [3, 7, 2, 8, 10], use um for para calcular a soma de todos os elementos."
      ],
      "metadata": {
        "id": "2otein7FXI-B"
      }
    },
    {
      "cell_type": "code",
      "source": [
        "numeros = [3, 7, 2, 8, 10]\n",
        "\n",
        "# Variável para armazenar a soma\n",
        "soma = 0\n",
        "\n",
        "# Percorre cada número da lista e soma\n",
        "for numero in numeros:\n",
        "    soma += numero\n",
        "\n",
        "# Exibe o resultado\n",
        "print(\"A soma dos números é:\", soma)"
      ],
      "metadata": {
        "id": "ZLyGf5qxXEVJ"
      },
      "execution_count": null,
      "outputs": []
    },
    {
      "cell_type": "markdown",
      "source": [
        "2-Contagem de vogais em uma string\n",
        "Peça uma palavra ao usuário e use um for para contar quantas vogais\n",
        " (a, e, i, o, u) existem."
      ],
      "metadata": {
        "id": "ABoqMGAcXMHG"
      }
    },
    {
      "cell_type": "code",
      "source": [
        "palavra = input(\"Digite uma palavra: \")\n",
        "vogais = \"aeiou\"\n",
        "contador = 0\n",
        "\n",
        "for letra in palavra.lower():\n",
        "    if letra in vogais:\n",
        "        contador += 1\n",
        "\n",
        "print(\"Número de vogais:\", contador)"
      ],
      "metadata": {
        "id": "th0Vwjp8XS7a"
      },
      "execution_count": null,
      "outputs": []
    },
    {
      "cell_type": "markdown",
      "source": [
        "3-Inverter lista usando while\n",
        "Dada a lista nomes = [\"Ana\", \"João\", \"Carlos\", \"Maria\"], use um while para inverter a ordem dos elementos (sem usar reverse() ou slicing)."
      ],
      "metadata": {
        "id": "HixV576bXiAi"
      }
    },
    {
      "cell_type": "code",
      "source": [
        "nomes = [\"Ana\", \"João\", \"Carlos\", \"Maria\"]\n",
        "\n",
        "invertida = []\n",
        "indice = len(nomes) - 1\n",
        "\n",
        "while indice >= 0:\n",
        "    invertida.append(nomes[indice])\n",
        "    indice -= 1\n",
        "print(invertida)"
      ],
      "metadata": {
        "id": "3FHM0pfBXlXM"
      },
      "execution_count": null,
      "outputs": []
    },
    {
      "cell_type": "markdown",
      "source": [
        "4-Maior número em uma lista\n",
        "Escreva um programa que percorra uma lista de inteiros e encontre o maior valor."
      ],
      "metadata": {
        "id": "64caw-JWXul-"
      }
    },
    {
      "cell_type": "code",
      "source": [
        "numeros = [3, 7, 2, 8, 10, 1, 5]\n",
        "\n",
        "maior = numeros[0]\n",
        "\n",
        "for numero in numeros:\n",
        "    if numero > maior:\n",
        "        maior = numero\n",
        "\n",
        "print(\"O maior valor da lista é:\", maior)\n"
      ],
      "metadata": {
        "id": "UmASEdkxXyyB"
      },
      "execution_count": null,
      "outputs": []
    },
    {
      "cell_type": "markdown",
      "source": [
        "5-Remover elementos repetidos de uma lista\n",
        "Usando um for, percorra a lista valores = [1, 2, 2, 3, 4, 4, 5] e crie uma nova lista apenas com elementos únicos."
      ],
      "metadata": {
        "id": "ScE4n3SGX5BO"
      }
    },
    {
      "cell_type": "code",
      "source": [
        "valores = [1, 2, 2, 3, 4, 4, 5]\n",
        "unicos = []\n",
        "\n",
        "for valor in valores:\n",
        "    existe = valor in unicos  # isso retorna True ou False\n",
        "\n",
        "    if existe == False:       # só adiciona se não está\n",
        "        unicos.append(valor)\n",
        "\n",
        "print(\"Lista sem repetidos:\", unicos)"
      ],
      "metadata": {
        "id": "nVX9gPbUX9D1"
      },
      "execution_count": null,
      "outputs": []
    },
    {
      "cell_type": "markdown",
      "source": [
        "6-Verificar se palavra é palíndromo\n",
        "Peça uma palavra ao usuário e use while ou for para verificar se ela é igual de frente para trás (ex.: \"arara\")."
      ],
      "metadata": {
        "id": "ic6KlO60YAn5"
      }
    },
    {
      "cell_type": "code",
      "source": [
        "palavra = input(\"Digite uma palavra: \").lower()  # pega a palavra e deixa tudo minúsculo\n",
        "palindromo = True  # vamos assumir que é palíndromo\n",
        "\n",
        "for i in range(len(palavra)):\n",
        "    if palavra[i] != palavra[len(palavra) - 1 - i]:  # compara letra da frente com a de trás\n",
        "        palindromo = False  # se encontrar diferença, não é palíndromo\n",
        "        break  # para o loop porque já sabemos que não é\n",
        "\n",
        "if palindromo:\n",
        "    print(\"É um palíndromo!\")\n",
        "else:\n",
        "    print(\"Não é um palíndromo.\")"
      ],
      "metadata": {
        "id": "JMT9WxKMYMr3"
      },
      "execution_count": null,
      "outputs": []
    },
    {
      "cell_type": "markdown",
      "source": [
        "7-Contagem regressiva com while\n",
        "\n",
        "Peça ao usuário um número e faça uma contagem regressiva até 0."
      ],
      "metadata": {
        "id": "XOk6O-F3YTXe"
      }
    },
    {
      "cell_type": "code",
      "source": [
        "num = int(input(\"Digite um número: \"))\n",
        "\n",
        "while num >= 0:\n",
        "    print(num)\n",
        "    num -= 1"
      ],
      "metadata": {
        "id": "x0I1VIv7YWoB"
      },
      "execution_count": null,
      "outputs": []
    },
    {
      "cell_type": "markdown",
      "source": [
        "8-Percorrendo um dicionário de notas\n",
        "Dado o dicionário notas = {\"Ana\": 8, \"Carlos\": 7, \"Maria\": 10}, use um for para exibir cada aluno com sua nota."
      ],
      "metadata": {
        "id": "RM9YuwNdYa6l"
      }
    },
    {
      "cell_type": "code",
      "source": [
        "notas = {\"Ana\": 8, \"Carlos\": 7, \"Maria\": 10}\n",
        "\n",
        "for aluno, nota in notas.items():\n",
        "    print(f\"{aluno} tirou nota {nota}\")"
      ],
      "metadata": {
        "id": "L9vuDa6pYezO"
      },
      "execution_count": null,
      "outputs": []
    },
    {
      "cell_type": "markdown",
      "source": [
        "9-Filtrar números pares de uma lista\n",
        "\n",
        "Dada a lista numeros = [10, 21, 32, 43, 54], use um for para criar uma nova lista contendo apenas os pares"
      ],
      "metadata": {
        "id": "R4fVx00dYjJ-"
      }
    },
    {
      "cell_type": "code",
      "source": [
        "numeros = [10, 21, 32, 43, 54]\n",
        "pares = []\n",
        "\n",
        "for num in numeros:\n",
        "    if num % 2 == 0:\n",
        "        pares.append(num)\n",
        "\n",
        "print(pares)"
      ],
      "metadata": {
        "id": "-xaR0_uQYm6c"
      },
      "execution_count": null,
      "outputs": []
    },
    {
      "cell_type": "markdown",
      "source": [
        "10-Contador de palavras em uma frase\n",
        "Peça ao usuário uma frase, divida em palavras (split()) e use um dicionário para contar quantas vezes cada palavra aparece."
      ],
      "metadata": {
        "id": "K-S0Ij7hbLfI"
      }
    },
    {
      "cell_type": "code",
      "source": [
        "frase = input(\"Digite uma frase: \").lower()\n",
        "palavras = frase.split()\n",
        "\n",
        "contador = {}\n",
        "\n",
        "for palavra in palavras:\n",
        "    if palavra in contador:\n",
        "        contador[palavra] += 1\n",
        "    else:\n",
        "        contador[palavra] = 1\n",
        "\n",
        "print(contador)"
      ],
      "metadata": {
        "id": "EuWQhjsubT9N"
      },
      "execution_count": null,
      "outputs": []
    },
    {
      "cell_type": "markdown",
      "source": [
        "##Lista de exercícios 12/09"
      ],
      "metadata": {
        "id": "cCzYFTkDbhOd"
      }
    },
    {
      "cell_type": "markdown",
      "source": [
        "1) Tuplas - Acesso e Desempacotamento\n",
        "Crie uma tupla contendo três tipos diferentes de dados: um número, uma string e uma lista. Use um laço de repetição para acessar e imprimir cada item da tupla. Além disso, dentro do laço, acesse e imprima o segundo item da lista que está dentro da tupla."
      ],
      "metadata": {
        "id": "up2d2oVjblDm"
      }
    },
    {
      "cell_type": "code",
      "source": [
        "tupla= (35, \"Cintia\", [1,2,3])\n",
        "list= list(tupla)\n",
        "\n",
        "for i in tupla:\n",
        "  print(i)\n",
        "  print(list[1])\n",
        "  print(list[2])"
      ],
      "metadata": {
        "colab": {
          "base_uri": "https://localhost:8080/"
        },
        "id": "FM3YeXBxKSQc",
        "outputId": "449db69b-c3d2-45ea-f315-2ea823f61793"
      },
      "execution_count": 4,
      "outputs": [
        {
          "output_type": "stream",
          "name": "stdout",
          "text": [
            "35\n",
            "Cintia\n",
            "[1, 2, 3]\n",
            "Cintia\n",
            "Cintia\n",
            "[1, 2, 3]\n",
            "[1, 2, 3]\n",
            "Cintia\n",
            "[1, 2, 3]\n"
          ]
        }
      ]
    },
    {
      "cell_type": "markdown",
      "source": [
        "2) Cadastro de Pessoas e Análise de Alturas\n",
        "Solicite ao usuário para inserir o nome e a altura de várias pessoas. Preencha um dicionário com essas informações e depois encontre e imprima o nome e a altura da pessoa mais alta e da mais baixa."
      ],
      "metadata": {
        "id": "AcMfOH7HbsNo"
      }
    },
    {
      "cell_type": "code",
      "source": [
        "pessoas = {}\n",
        "\n",
        "for i in range(3):\n",
        "    nome = input(\"Nome: \")\n",
        "    altura = float(input(\"Altura (em metros): \"))\n",
        "    pessoas[nome] = altura\n",
        "\n",
        "mais_alto = max(pessoas, key=pessoas.get)\n",
        "mais_baixo = min(pessoas, key=pessoas.get)\n",
        "\n",
        "print(f\"\\nPessoa mais alta: {mais_alto} com {pessoas[mais_alto]:.2f}m\")\n",
        "print(f\"Pessoa mais baixa: {mais_baixo} com {pessoas[mais_baixo]:.2f}m\")#isso é uma formatação de número decimal(.2f}m)"
      ],
      "metadata": {
        "colab": {
          "base_uri": "https://localhost:8080/"
        },
        "id": "7VJSwZaRNMPe",
        "outputId": "17af5528-975f-4ab8-96ed-e83c6415c12d"
      },
      "execution_count": 6,
      "outputs": [
        {
          "output_type": "stream",
          "name": "stdout",
          "text": [
            "Nome: Lana\n",
            "Altura (em metros): 1.50\n",
            "Nome: Bianca\n",
            "Altura (em metros): 1.67\n",
            "Nome: Leticia\n",
            "Altura (em metros): 1.60\n",
            "\n",
            "Pessoa mais alta: Bianca com 1.67m\n",
            "Pessoa mais baixa: Lana com 1.50m\n"
          ]
        }
      ]
    },
    {
      "cell_type": "markdown",
      "source": [
        "3) Lista, laços e Condicionais\n",
        "Descrição: Crie uma lista com cinco números inteiros. Use um laço de repetição e uma condicional para imprimir apenas os números que são múltiplos de 3."
      ],
      "metadata": {
        "id": "3i8R2eoNbs_6"
      }
    },
    {
      "cell_type": "code",
      "source": [
        "numeros = [4, 9, 12, 7, 15]\n",
        "\n",
        "for numero in numeros:\n",
        "  if numero % 3 == 0:\n",
        "        print(numero)"
      ],
      "metadata": {
        "colab": {
          "base_uri": "https://localhost:8080/"
        },
        "id": "Kb64L8jIRHoG",
        "outputId": "649f3b32-ef45-4944-9fa4-a1275d10eddb"
      },
      "execution_count": 15,
      "outputs": [
        {
          "output_type": "stream",
          "name": "stdout",
          "text": [
            "9\n",
            "12\n",
            "15\n"
          ]
        }
      ]
    },
    {
      "cell_type": "markdown",
      "source": [
        "4) Manipulação de Strings e Condicionais\n",
        "Descrição: Crie uma string com uma frase. Use uma condicional para verificar se a frase contém a palavra \"Python\". Se sim, substitua a palavra \"Python\" por \"programação\" e imprima a nova frase."
      ],
      "metadata": {
        "id": "bAvBjb1bPxS-"
      }
    },
    {
      "cell_type": "code",
      "source": [
        "frase = \"Eu estou aprendendo Python e gosto muito!\"\n",
        "\n",
        "if \"Python\" in frase:\n",
        "    nova_frase = frase.replace(\"Python\", \"programação\")\n",
        "    print(\"Frase modificada:\", nova_frase)\n",
        "else:\n",
        "    print(\"A palavra 'Python' não foi encontrada na frase.\")"
      ],
      "metadata": {
        "colab": {
          "base_uri": "https://localhost:8080/"
        },
        "id": "58a0wQ47RPba",
        "outputId": "3fc31f4e-ba5c-4964-f995-7a3c344a51fb"
      },
      "execution_count": 16,
      "outputs": [
        {
          "output_type": "stream",
          "name": "stdout",
          "text": [
            "Frase modificada: Eu estou aprendendo programação e gosto muito!\n"
          ]
        }
      ]
    },
    {
      "cell_type": "markdown",
      "source": [
        "5) Simulação de Alfândega com Cadastro Dinâmico de Itens usando dicionário\n",
        "Simule uma situação de alfândega onde o funcionário cadastra itens novos encontrados na mala de uma pessoa que veio de uma viagem internacional. Após o cadastro de todos os itens, o programa imprime uma nota com todos os itens e seus preços, calcula o valor total e, se o valor total ultrapassar 500 dólares, calcula o valor de 60% a ser pago."
      ],
      "metadata": {
        "id": "SgvBHqVGPxjF"
      }
    },
    {
      "cell_type": "code",
      "source": [
        "itens_cadastrados = {}\n",
        "valor_total = 0\n",
        "\n",
        "while True:\n",
        "    nome_item = input(\"Digite o item (ou 'fim' para encerrar): \")\n",
        "    if nome_item == \"fim\":\n",
        "        break\n",
        "    preco_item = float(input(\"Digite o preço em dólares: \"))\n",
        "    itens_cadastrados[nome_item] = preco_item\n",
        "    valor_total += preco_item\n",
        "\n",
        "print(\"\\n--- NOTA DE DECLARAÇÃO ---\")\n",
        "for item, preco in itens_cadastrados.items():\n",
        "    print(f\"{item}: ${preco:.2f}\")\n",
        "\n",
        "print(f\"Valor total: ${valor_total:.2f}\")\n",
        "\n",
        "if valor_total > 500:\n",
        "    imposto = valor_total * 0.60\n",
        "    print(f\"Imposto a pagar (60%): ${imposto:.2f}\")\n",
        "else:\n",
        "    print(\"Sem imposto a pagar.\")"
      ],
      "metadata": {
        "colab": {
          "base_uri": "https://localhost:8080/"
        },
        "id": "sYDXEkaFULol",
        "outputId": "a7f0c49a-6d5c-4dc0-ab0f-37b8def16178"
      },
      "execution_count": 17,
      "outputs": [
        {
          "output_type": "stream",
          "name": "stdout",
          "text": [
            "Digite o item (ou 'fim' para encerrar): carro\n",
            "Digite o preço em dólares: 450\n",
            "Digite o item (ou 'fim' para encerrar): brinco de ouro\n",
            "Digite o preço em dólares: 2.000\n",
            "Digite o item (ou 'fim' para encerrar): casa \n",
            "Digite o preço em dólares: 400.000\n",
            "Digite o item (ou 'fim' para encerrar): geladeira\n",
            "Digite o preço em dólares: 650\n",
            "Digite o item (ou 'fim' para encerrar): fogão\n",
            "Digite o preço em dólares: 300\n",
            "Digite o item (ou 'fim' para encerrar): fim\n",
            "\n",
            "--- NOTA DE DECLARAÇÃO ---\n",
            "carro: $450.00\n",
            "brinco de ouro: $2.00\n",
            "casa : $400.00\n",
            "geladeira: $650.00\n",
            "fogão: $300.00\n",
            "Valor total: $1802.00\n",
            "Imposto a pagar (60%): $1081.20\n"
          ]
        }
      ]
    },
    {
      "cell_type": "markdown",
      "source": [
        "6) Identificação de Palavras Negativas em um Texto\n",
        "Você vai criar um programa em Python para analisar um texto e identificar palavras que expressam pensamentos negativos. Para isso, você usará uma lista de palavras negativas fornecida e verificará quais dessas palavras estão presentes no texto fornecido pelo usuário. Exemplo de palavras negtivas, acrescente mais na lista: # Lista de palavras negativas palavras_negativas = ['triste', 'deprimido', 'ansioso', 'desapontado', 'frustrado']"
      ],
      "metadata": {
        "id": "dtu_2s64b0ta"
      }
    },
    {
      "cell_type": "code",
      "source": [
        "palavras_negativas = [\n",
        "    'triste', 'deprimido', 'ansioso', 'desapontado', 'frustrado',\n",
        "    'raiva', 'ódio', 'solidão', 'inseguro', 'cansado',\n",
        "    'irritado', 'medo', 'culpado', 'injusto', 'infeliz'\n",
        "]\n",
        "\n",
        "texto = input(\"Digite um texto para análise: \").lower()  # .lower() deixa tudo minúsculo\n",
        "palavras_texto = texto.split()\n",
        "encontradas = []\n",
        "for palavra in palavras_negativas:\n",
        "    if palavra in palavras_texto:\n",
        "        encontradas.append(palavra)\n",
        "\n",
        "if encontradas:\n",
        "    print(\"\\nPalavras negativas encontradas no texto:\", \", \".join(encontradas))\n",
        "else:\n",
        "    print(\"\\nNenhuma palavra negativa foi encontrada.\")"
      ],
      "metadata": {
        "colab": {
          "base_uri": "https://localhost:8080/"
        },
        "id": "beHt7UMlUhbx",
        "outputId": "a9a0d7a7-59c1-45a7-9e21-a11b921a5750"
      },
      "execution_count": 18,
      "outputs": [
        {
          "output_type": "stream",
          "name": "stdout",
          "text": [
            "Digite um texto para análise: eu estava feliz com isso, mas depois fiquei deprimido e desapontado\n",
            "\n",
            "Palavras negativas encontradas no texto: deprimido, desapontado\n"
          ]
        }
      ]
    }
  ]
}