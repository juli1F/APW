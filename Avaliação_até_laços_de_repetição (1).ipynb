{
  "cells": [
    {
      "cell_type": "markdown",
      "metadata": {
        "id": "view-in-github",
        "colab_type": "text"
      },
      "source": [
        "<a href=\"https://colab.research.google.com/github/Pedro-Duarte77/PA_python/blob/main/Avalia%C3%A7%C3%A3o_at%C3%A9_la%C3%A7os_de_repeti%C3%A7%C3%A3o.ipynb\" target=\"_parent\"><img src=\"https://colab.research.google.com/assets/colab-badge.svg\" alt=\"Open In Colab\"/></a>"
      ]
    },
    {
      "cell_type": "markdown",
      "metadata": {
        "id": "oncsAo0QKXM4"
      },
      "source": [
        "Pedro Henrique Duarte Siqueira"
      ]
    },
    {
      "cell_type": "markdown",
      "metadata": {
        "id": "2Wtw01VyHzBQ"
      },
      "source": [
        "1)Crie um programa em python que imprima números pares\n",
        "\n",
        "a) Pedir o usuário para digitar uma lista com mínimo 10 números\n",
        "\n",
        "b) Criar uma nova somente com numeros pares\n",
        "\n",
        "c) Imprimir números pares"
      ]
    },
    {
      "cell_type": "code",
      "execution_count": null,
      "metadata": {
        "id": "nBMmmZcewdRN",
        "outputId": "3f44ebee-2c2d-447d-a981-804d650b8103"
      },
      "outputs": [
        {
          "name": "stdin",
          "output_type": "stream",
          "text": [
            "Digite uma lista de números com no mínimo 10:  1\n",
            "Digite uma lista de números com no mínimo 10:  2\n",
            "Digite uma lista de números com no mínimo 10:  3\n",
            "Digite uma lista de números com no mínimo 10:  4\n",
            "Digite uma lista de números com no mínimo 10:  5\n",
            "Digite uma lista de números com no mínimo 10:  6\n",
            "Digite uma lista de números com no mínimo 10:  7\n",
            "Digite uma lista de números com no mínimo 10:  8\n",
            "Digite uma lista de números com no mínimo 10:  9\n",
            "Digite uma lista de números com no mínimo 10:  10\n"
          ]
        },
        {
          "name": "stdout",
          "output_type": "stream",
          "text": [
            "[2, 4, 6, 8, 10]\n"
          ]
        }
      ],
      "source": [
        "pares = []\n",
        "\n",
        "for i in range (10):\n",
        "    num = int(input(\"Digite uma lista de números com no mínimo 10: \"))\n",
        "    if num % 2 ==0:\n",
        "        pares.append(num)\n",
        "\n",
        "print(pares)"
      ]
    },
    {
      "cell_type": "markdown",
      "metadata": {
        "id": "bBYPSr8JHpUA"
      },
      "source": [
        "2)Crie um programa que conte quantas vezes cada palavra aparece em uma frase.\n",
        "\n",
        "Pedir ao usuário para digitar uma frase. Imprimir a palavra e quantas vezes ela aparece"
      ]
    },
    {
      "cell_type": "code",
      "execution_count": null,
      "metadata": {
        "id": "dQLlv-lPKPT4",
        "outputId": "368918b3-48d2-42a6-f484-a0a8fe85aab3"
      },
      "outputs": [
        {
          "name": "stdin",
          "output_type": "stream",
          "text": [
            "Digite uma frase:  Eu sou alegra, eu sou feliz, eu sou carismático, eu sou teu amigão\n"
          ]
        },
        {
          "name": "stdout",
          "output_type": "stream",
          "text": [
            "A palavra Eu aparece 1 vezes\n",
            "A palavra sou aparece 4 vezes\n",
            "A palavra alegra, aparece 1 vezes\n",
            "A palavra eu aparece 3 vezes\n",
            "A palavra feliz, aparece 1 vezes\n",
            "A palavra carismático, aparece 1 vezes\n",
            "A palavra teu aparece 1 vezes\n",
            "A palavra amigão aparece 1 vezes\n"
          ]
        }
      ],
      "source": [
        "frase = input(\"Digite uma frase: \")\n",
        "palavras = frase.split()\n",
        "contagem = {}\n",
        "\n",
        "for palavra in palavras:\n",
        "    if palavra in contagem:\n",
        "        contagem[palavra]+= 1\n",
        "    else:\n",
        "        contagem[palavra] = 1\n",
        "\n",
        "for palavra, quantidade in contagem.items():\n",
        "    print(f\"A palavra {palavra} aparece {quantidade} vezes\")"
      ]
    },
    {
      "cell_type": "markdown",
      "metadata": {
        "id": "bbWz0aL2HjP3"
      },
      "source": [
        "3)Crie um programa em Python para avaliar um desfile de candidatas. O programa deve:\n",
        "\n",
        "a) Perguntar quantas candidatas vão participar.\n",
        "\n",
        "b) Perguntar o nome de cada candidata.\n",
        "\n",
        "c) Para cada candidata, receber 3 notas (uma de cada jurado).\n",
        "\n",
        "d) Somar as notas e guardar o total em um dicionário, onde a chave é o nome da candidata e o valor é a soma das notas.\n",
        "\n",
        "Mostrar ao final:\n",
        "\n",
        "a) A pontuação total de cada candidata.\n",
        "\n",
        "b) O nome da vencedora (a que tiver a maior pontuação)."
      ]
    },
    {
      "cell_type": "code",
      "execution_count": null,
      "metadata": {
        "colab": {
          "base_uri": "https://localhost:8080/"
        },
        "id": "uHpiihciwdRR",
        "outputId": "3b93db65-852c-495e-e18b-1d6bb943381c"
      },
      "outputs": [
        {
          "output_type": "stream",
          "name": "stdout",
          "text": [
            "Quantas candidatas vão participar? 3\n",
            "\n",
            "Digite o nome da 1ª candidata: joão\n",
            "Digite a nota do jurado 1 para joão: 5\n",
            "Digite a nota do jurado 2 para joão: 6\n",
            "Digite a nota do jurado 3 para joão: 7\n",
            "\n",
            "Digite o nome da 2ª candidata: pedro\n",
            "Digite a nota do jurado 1 para pedro: 9\n",
            "Digite a nota do jurado 2 para pedro: 8\n",
            "Digite a nota do jurado 3 para pedro: 9\n",
            "\n",
            "Digite o nome da 3ª candidata: carlos\n",
            "Digite a nota do jurado 1 para carlos: 6\n",
            "Digite a nota do jurado 2 para carlos: 7\n",
            "Digite a nota do jurado 3 para carlos: 9\n",
            "\n",
            "--- Resultado Final ---\n",
            "joão: 18.0 pontos\n",
            "pedro: 26.0 pontos\n",
            "carlos: 22.0 pontos\n",
            "\n",
            "A vencedora é: pedro, com 26.0 pontos!\n"
          ]
        }
      ],
      "source": [
        "qtd = int(input(\"Quantas candidatas vão participar? \"))\n",
        "\n",
        "notas = {}\n",
        "\n",
        "for i in range(qtd):\n",
        "    nome = input(f\"\\nDigite o nome da {i+1}ª candidata: \")\n",
        "    total = 0\n",
        "\n",
        "    for j in range(3):\n",
        "        nota = float(input(f\"Digite a nota do jurado {j+1} para {nome}: \"))\n",
        "        total += nota\n",
        "\n",
        "    notas[nome] = total\n",
        "\n",
        "print(\"\\n--- Resultado Final ---\")\n",
        "\n",
        "for candidata, pontos in notas.items():\n",
        "    print(f\"{candidata}: {pontos} pontos\")\n",
        "\n",
        "vencedora = max(notas, key=notas.get)\n",
        "print(f\"\\nA vencedora é: {vencedora}, com {notas[vencedora]} pontos!\")"
      ]
    }
  ],
  "metadata": {
    "colab": {
      "provenance": [],
      "include_colab_link": true
    },
    "kernelspec": {
      "display_name": "Python 3 (ipykernel)",
      "language": "python",
      "name": "python3"
    },
    "language_info": {
      "codemirror_mode": {
        "name": "ipython",
        "version": 3
      },
      "file_extension": ".py",
      "mimetype": "text/x-python",
      "name": "python",
      "nbconvert_exporter": "python",
      "pygments_lexer": "ipython3",
      "version": "3.11.4"
    }
  },
  "nbformat": 4,
  "nbformat_minor": 0
}